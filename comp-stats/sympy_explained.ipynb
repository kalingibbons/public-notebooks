{
 "cells": [
  {
   "cell_type": "markdown",
   "metadata": {},
   "source": [
    "# Explanation of symbolic derivatives using `sympy`\n",
    "\n",
    "---\n",
    "\n",
    "I've been listening to a lot of anguish over this assignment, so I thought I'd investigate sympy for everyone's sake.\n",
    "I like to keep most things under some kind of namespace, so that anyone new looking at the code will have some clue which package these functions are coming from."
   ]
  },
  {
   "cell_type": "code",
   "execution_count": 1,
   "metadata": {},
   "outputs": [],
   "source": [
    "import sympy as sp"
   ]
  },
  {
   "cell_type": "markdown",
   "metadata": {},
   "source": [
    "Let's start with the basics from the `sympy` documentation. Mathematica treats every variable as a symbol, but for Python, we'll have to explicitly tell it when we want to use symbolic variables."
   ]
  },
  {
   "cell_type": "code",
   "execution_count": 8,
   "metadata": {},
   "outputs": [],
   "source": [
    "# Create our base set of variables\n",
    "symbols = sp.symbols\n",
    "x, y, z, t = symbols('x y z t')"
   ]
  },
  {
   "cell_type": "markdown",
   "metadata": {},
   "source": [
    "Now that we have some base symbolic variables, we can build up more complicated equations. Just like we have `numpy.sin` for array calculations, we've got `sympy.sin` for symbolic ones."
   ]
  },
  {
   "cell_type": "code",
   "execution_count": 10,
   "metadata": {},
   "outputs": [],
   "source": [
    "# Create a function\n",
    "loglike = sp.sin(x * y)\n"
   ]
  },
  {
   "cell_type": "markdown",
   "metadata": {},
   "source": [
    "That's nice and all, but we really need to be able to do derivatives for the homework.\n",
    "> Note: I'm fairly sure the rendering of sympy variables is system dependent. I've got TeXLive installed, so I'm getting LaTeX out of this."
   ]
  },
  {
   "cell_type": "code",
   "execution_count": 11,
   "metadata": {},
   "outputs": [
    {
     "data": {
      "text/latex": [
       "$\\displaystyle \\left[\\begin{matrix}y \\cos{\\left(x y \\right)} & x \\cos{\\left(x y \\right)} & 0\\end{matrix}\\right]$"
      ],
      "text/plain": [
       "[y*cos(x*y), x*cos(x*y), 0]"
      ]
     },
     "execution_count": 11,
     "metadata": {},
     "output_type": "execute_result"
    }
   ],
   "source": [
    "# Calculate the partial derivatives\n",
    "sp.derive_by_array(loglike, [x, y, z])\n"
   ]
  },
  {
   "cell_type": "markdown",
   "metadata": {},
   "source": [
    "<br>\n",
    "<br>\n",
    "\n",
    "## Jacobian's - Pretty sure it's related to the $A$ matrix.\n",
    "There's some debate on the internet if the Jacobian should be displayed as we're used to, or transposed. We'll investigate that using the first example from Wikipedia's Jacobian page."
   ]
  },
  {
   "cell_type": "code",
   "execution_count": 33,
   "metadata": {},
   "outputs": [
    {
     "data": {
      "text/latex": [
       "$\\displaystyle \\left[\\begin{matrix}2 x y & 5\\\\x^{2} & \\cos{\\left(y \\right)}\\end{matrix}\\right]$"
      ],
      "text/plain": [
       "[[2*x*y, 5], [x**2, cos(y)]]"
      ]
     },
     "execution_count": 33,
     "metadata": {},
     "output_type": "execute_result"
    }
   ],
   "source": [
    "func = [x**2 * y, 5*x + sp.sin(y)]\n",
    "sp.derive_by_array(func, [x, y])\n",
    "\n"
   ]
  },
  {
   "cell_type": "markdown",
   "metadata": {},
   "source": [
    "Look's like tensor derivatives yield the transposed Jacobian."
   ]
  },
  {
   "cell_type": "code",
   "execution_count": 32,
   "metadata": {},
   "outputs": [
    {
     "data": {
      "text/latex": [
       "$\\displaystyle \\left[\\begin{matrix}2 x y & x^{2}\\\\5 & \\cos{\\left(y \\right)}\\end{matrix}\\right]$"
      ],
      "text/plain": [
       "[[2*x*y, x**2], [5, cos(y)]]"
      ]
     },
     "execution_count": 32,
     "metadata": {},
     "output_type": "execute_result"
    }
   ],
   "source": [
    "sp.derive_by_array(func, [x, y]).transpose() # .T is for numpy, not sympy"
   ]
  },
  {
   "cell_type": "markdown",
   "metadata": {},
   "source": [
    "Much better. Now let's check it against `sympy`'s Jacobian example within the `sympy.Matrix` module."
   ]
  },
  {
   "cell_type": "code",
   "execution_count": 21,
   "metadata": {},
   "outputs": [
    {
     "data": {
      "text/latex": [
       "$\\displaystyle \\left[\\begin{matrix}\\cos{\\left(\\phi \\right)} & - \\rho \\sin{\\left(\\phi \\right)}\\\\\\sin{\\left(\\phi \\right)} & \\rho \\cos{\\left(\\phi \\right)}\\\\2 \\rho & 0\\end{matrix}\\right]$"
      ],
      "text/plain": [
       "[[cos(phi), -rho*sin(phi)], [sin(phi), rho*cos(phi)], [2*rho, 0]]"
      ]
     },
     "execution_count": 21,
     "metadata": {},
     "output_type": "execute_result"
    }
   ],
   "source": [
    "X, rho, phi = symbols('X rho phi')\n",
    "X = [rho * sp.cos(phi), rho * sp.sin(phi), rho**2]\n",
    "sp.derive_by_array(X, [rho, phi]).transpose()"
   ]
  },
  {
   "cell_type": "code",
   "execution_count": 22,
   "metadata": {},
   "outputs": [
    {
     "data": {
      "text/latex": [
       "$\\displaystyle \\left[\\begin{matrix}\\cos{\\left(\\phi \\right)} & - \\rho \\sin{\\left(\\phi \\right)}\\\\\\sin{\\left(\\phi \\right)} & \\rho \\cos{\\left(\\phi \\right)}\\\\2 \\rho & 0\\end{matrix}\\right]$"
      ],
      "text/plain": [
       "Matrix([\n",
       "[cos(phi), -rho*sin(phi)],\n",
       "[sin(phi),  rho*cos(phi)],\n",
       "[   2*rho,             0]])"
      ]
     },
     "execution_count": 22,
     "metadata": {},
     "output_type": "execute_result"
    }
   ],
   "source": [
    "from sympy import Matrix\n",
    "X = Matrix(X)\n",
    "X.jacobian([rho, phi])"
   ]
  },
  {
   "cell_type": "markdown",
   "metadata": {},
   "source": [
    "<br>\n",
    "<br>\n",
    "\n",
    "## Hessian's\n",
    "\n",
    "Those are matching. Now, if we run the derivative twice, will we get a Hessian? Or, will we need to transpose it at the end? Let's:\n",
    "\n",
    "* Check the formula for a Hessian using generic functions, so we can check for typos\n",
    "* Use realized symbolic functions to do the same\n",
    "* Check if `derive_by_array` matches"
   ]
  },
  {
   "cell_type": "markdown",
   "metadata": {},
   "source": [
    "### Checking the formula"
   ]
  },
  {
   "cell_type": "code",
   "execution_count": 24,
   "metadata": {},
   "outputs": [
    {
     "data": {
      "text/latex": [
       "$\\displaystyle \\left[\\begin{matrix}\\frac{\\partial^{2}}{\\partial x^{2}} f{\\left(x,y \\right)} & \\frac{\\partial^{2}}{\\partial y\\partial x} f{\\left(x,y \\right)}\\\\\\frac{\\partial^{2}}{\\partial y\\partial x} f{\\left(x,y \\right)} & \\frac{\\partial^{2}}{\\partial y^{2}} f{\\left(x,y \\right)}\\end{matrix}\\right]$"
      ],
      "text/plain": [
       "Matrix([\n",
       "[Derivative(f(x, y), (x, 2)),   Derivative(f(x, y), x, y)],\n",
       "[  Derivative(f(x, y), x, y), Derivative(f(x, y), (y, 2))]])"
      ]
     },
     "execution_count": 24,
     "metadata": {},
     "output_type": "execute_result"
    }
   ],
   "source": [
    "f = sp.Function('f')(x, y) # Define generic functions\n",
    "sp.hessian(f, (x, y))\n",
    "\n"
   ]
  },
  {
   "cell_type": "markdown",
   "metadata": {},
   "source": [
    "That look's good. We've got the $\\partial x_i^2$'s in the diagonal and the $\\partial y \\partial x$ is running down the first column."
   ]
  },
  {
   "cell_type": "markdown",
   "metadata": {},
   "source": [
    "### Realized symbolic functions"
   ]
  },
  {
   "cell_type": "code",
   "execution_count": 27,
   "metadata": {},
   "outputs": [
    {
     "data": {
      "text/latex": [
       "$\\displaystyle x^{3} + 3 x y^{5}$"
      ],
      "text/plain": [
       "x**3 + 3*x*y**5"
      ]
     },
     "execution_count": 27,
     "metadata": {},
     "output_type": "execute_result"
    }
   ],
   "source": [
    "f = x**3 + 3 * x * y**5\n",
    "f"
   ]
  },
  {
   "cell_type": "code",
   "execution_count": 29,
   "metadata": {},
   "outputs": [
    {
     "data": {
      "text/latex": [
       "$\\displaystyle \\left[\\begin{matrix}6 x & 15 y^{4}\\\\15 y^{4} & 60 x y^{3}\\end{matrix}\\right]$"
      ],
      "text/plain": [
       "Matrix([\n",
       "[    6*x,   15*y**4],\n",
       "[15*y**4, 60*x*y**3]])"
      ]
     },
     "execution_count": 29,
     "metadata": {},
     "output_type": "execute_result"
    }
   ],
   "source": [
    "sp.hessian(f, (x, y))"
   ]
  },
  {
   "cell_type": "markdown",
   "metadata": {},
   "source": [
    "Matches up with what we would expect from the generic function above."
   ]
  },
  {
   "cell_type": "markdown",
   "metadata": {},
   "source": [
    "### Check the `derive_by_array` result\n",
    "We can start with the gradient."
   ]
  },
  {
   "cell_type": "code",
   "execution_count": 30,
   "metadata": {},
   "outputs": [
    {
     "data": {
      "text/latex": [
       "$\\displaystyle \\left[\\begin{matrix}3 x^{2} + 3 y^{5} & 15 x y^{4}\\end{matrix}\\right]$"
      ],
      "text/plain": [
       "[3*x**2 + 3*y**5, 15*x*y**4]"
      ]
     },
     "execution_count": 30,
     "metadata": {},
     "output_type": "execute_result"
    }
   ],
   "source": [
    "# Calculate a Hessian using the derive by array function\n",
    "grad = sp.derive_by_array(f, [x, y])\n",
    "grad\n"
   ]
  },
  {
   "cell_type": "markdown",
   "metadata": {},
   "source": [
    "There's probably a way to nest these functions together, but at least we can check the intermediate calculations this way."
   ]
  },
  {
   "cell_type": "code",
   "execution_count": 31,
   "metadata": {},
   "outputs": [
    {
     "data": {
      "text/latex": [
       "$\\displaystyle \\left[\\begin{matrix}6 x & 15 y^{4}\\\\15 y^{4} & 60 x y^{3}\\end{matrix}\\right]$"
      ],
      "text/plain": [
       "[[6*x, 15*y**4], [15*y**4, 60*x*y**3]]"
      ]
     },
     "execution_count": 31,
     "metadata": {},
     "output_type": "execute_result"
    }
   ],
   "source": [
    "hess = sp.derive_by_array(grad, [x, y])\n",
    "hess\n"
   ]
  },
  {
   "cell_type": "markdown",
   "metadata": {},
   "source": [
    "Look's the same as the above. So I suppose there might be fewer programming errors if we chose the transposed Jacobian."
   ]
  },
  {
   "cell_type": "markdown",
   "metadata": {},
   "source": [
    "<br>\n",
    "<br>\n",
    "\n",
    "## Substitution of real numbers into our equations.\n",
    "Let's do some basic substitutions to look at.\n",
    "> Note: Almost everything in `sympy` is an immutable data type. So if we want to use something in a later calculation, we should assign it to a new variable."
   ]
  },
  {
   "cell_type": "code",
   "execution_count": 34,
   "metadata": {},
   "outputs": [
    {
     "data": {
      "text/latex": [
       "$\\displaystyle \\left[\\begin{matrix}6 & 15 y^{4}\\\\15 y^{4} & 60 y^{3}\\end{matrix}\\right]$"
      ],
      "text/plain": [
       "[[6, 15*y**4], [15*y**4, 60*y**3]]"
      ]
     },
     "execution_count": 34,
     "metadata": {},
     "output_type": "execute_result"
    }
   ],
   "source": [
    "hess.subs(x, 1)"
   ]
  },
  {
   "cell_type": "code",
   "execution_count": 38,
   "metadata": {},
   "outputs": [
    {
     "data": {
      "text/latex": [
       "$\\displaystyle \\left[\\begin{matrix}6 x & 15\\\\15 & 60 x\\end{matrix}\\right]$"
      ],
      "text/plain": [
       "[[6*x, 15], [15, 60*x]]"
      ]
     },
     "execution_count": 38,
     "metadata": {},
     "output_type": "execute_result"
    }
   ],
   "source": [
    "hess.subs(y, 1)"
   ]
  },
  {
   "cell_type": "markdown",
   "metadata": {},
   "source": [
    "Those make sense to me. Let's do both at once:\n",
    "> Note: It is **very** easy to miss that the tuples are contained in a list. You'll be left with a symbol within your loop."
   ]
  },
  {
   "cell_type": "code",
   "execution_count": 39,
   "metadata": {},
   "outputs": [
    {
     "data": {
      "text/latex": [
       "$\\displaystyle \\left[\\begin{matrix}6 & 240\\\\240 & 480\\end{matrix}\\right]$"
      ],
      "text/plain": [
       "[[6, 240], [240, 480]]"
      ]
     },
     "execution_count": 39,
     "metadata": {},
     "output_type": "execute_result"
    }
   ],
   "source": [
    "hess.subs([(x, 1), (y, 2)])"
   ]
  },
  {
   "cell_type": "markdown",
   "metadata": {},
   "source": [
    "Now, how to we get those values out of there? Let's check the type and try the usual."
   ]
  },
  {
   "cell_type": "code",
   "execution_count": 49,
   "metadata": {},
   "outputs": [
    {
     "data": {
      "text/plain": [
       "sympy.tensor.array.dense_ndim_array.ImmutableDenseNDimArray"
      ]
     },
     "execution_count": 49,
     "metadata": {},
     "output_type": "execute_result"
    }
   ],
   "source": [
    "a = hess.subs([(x, 1), (y, 2)])\n",
    "type(a)"
   ]
  },
  {
   "cell_type": "code",
   "execution_count": 50,
   "metadata": {},
   "outputs": [
    {
     "data": {
      "text/latex": [
       "$\\displaystyle 240$"
      ],
      "text/plain": [
       "240"
      ]
     },
     "execution_count": 50,
     "metadata": {},
     "output_type": "execute_result"
    }
   ],
   "source": [
    "a[0,1]"
   ]
  },
  {
   "cell_type": "markdown",
   "metadata": {},
   "source": [
    "Works as expected. Maybe we want to get them all at once?"
   ]
  },
  {
   "cell_type": "code",
   "execution_count": 54,
   "metadata": {},
   "outputs": [
    {
     "data": {
      "text/plain": [
       "[[6, 240], [240, 480]]"
      ]
     },
     "execution_count": 54,
     "metadata": {},
     "output_type": "execute_result"
    }
   ],
   "source": [
    "a.tolist()"
   ]
  },
  {
   "cell_type": "markdown",
   "metadata": {},
   "source": [
    "### Speeding things up!!!\n",
    "Symbolic calculations are **slow**. We can use `sympy.lambdify` to speed things back\n",
    "up to `numpy` speeds. Lambda functions are python's implementation of\n",
    "*anonymous* functions. These are bite sized functions that cannot live\n",
    "outside of their file. If we needed to use their functionality somewhere\n",
    "else, we would have to promote them to real functions and save them to a\n",
    "module file.\n",
    "\n",
    "> Note: This is what you want to put in your loops"
   ]
  },
  {
   "cell_type": "code",
   "execution_count": 58,
   "metadata": {},
   "outputs": [
    {
     "data": {
      "text/plain": [
       "[[6, 240], [240, 480]]"
      ]
     },
     "execution_count": 58,
     "metadata": {},
     "output_type": "execute_result"
    }
   ],
   "source": [
    "from sympy.utilities import lambdify\n",
    "fast_func = lambdify((x, y), hess, 'numpy')\n",
    "fast_func(1, 2)"
   ]
  },
  {
   "cell_type": "code",
   "execution_count": 60,
   "metadata": {},
   "outputs": [
    {
     "data": {
      "text/plain": [
       "False"
      ]
     },
     "execution_count": 60,
     "metadata": {},
     "output_type": "execute_result"
    }
   ],
   "source": [
    "fast_func(1, 2) == a"
   ]
  },
  {
   "cell_type": "code",
   "execution_count": 61,
   "metadata": {},
   "outputs": [
    {
     "data": {
      "text/plain": [
       "True"
      ]
     },
     "execution_count": 61,
     "metadata": {},
     "output_type": "execute_result"
    }
   ],
   "source": [
    "fast_func(1, 2) == a.tolist()"
   ]
  },
  {
   "cell_type": "markdown",
   "metadata": {},
   "source": [
    "Excellent! Now I'm ready to start the assignment painfully late in the game!!!"
   ]
  },
  {
   "cell_type": "markdown",
   "metadata": {},
   "source": [
    "<br>\n",
    "<br>\n",
    "<br>\n",
    "> Note: Below is the example from `sympy` when you look up their hessian function. They basically just refer you to the wiki, but I wouldn't put it past Dr. Qu to throw some constrained optimization at us, so I left it in here."
   ]
  },
  {
   "cell_type": "code",
   "execution_count": 7,
   "metadata": {},
   "outputs": [
    {
     "data": {
      "text/latex": [
       "$\\displaystyle \\left[\\begin{matrix}0 & 0 & \\frac{\\partial}{\\partial x} g{\\left(x,y \\right)} & \\frac{\\partial}{\\partial y} g{\\left(x,y \\right)}\\\\0 & 0 & 2 x & 3\\\\\\frac{\\partial}{\\partial x} g{\\left(x,y \\right)} & 2 x & \\frac{\\partial^{2}}{\\partial x^{2}} f{\\left(x,y \\right)} & \\frac{\\partial^{2}}{\\partial y\\partial x} f{\\left(x,y \\right)}\\\\\\frac{\\partial}{\\partial y} g{\\left(x,y \\right)} & 3 & \\frac{\\partial^{2}}{\\partial y\\partial x} f{\\left(x,y \\right)} & \\frac{\\partial^{2}}{\\partial y^{2}} f{\\left(x,y \\right)}\\end{matrix}\\right]$"
      ],
      "text/plain": [
       "Matrix([\n",
       "[                     0,   0,      Derivative(g(x, y), x),      Derivative(g(x, y), y)],\n",
       "[                     0,   0,                         2*x,                           3],\n",
       "[Derivative(g(x, y), x), 2*x, Derivative(f(x, y), (x, 2)),   Derivative(f(x, y), x, y)],\n",
       "[Derivative(g(x, y), y),   3,   Derivative(f(x, y), x, y), Derivative(f(x, y), (y, 2))]])"
      ]
     },
     "execution_count": 7,
     "metadata": {},
     "output_type": "execute_result"
    }
   ],
   "source": [
    "# Calculate a Hessian (bordered hessian for optimization problems)\n",
    "f = sp.Function('f')(x, y)\n",
    "g1 = sp.Function('g')(x, y)\n",
    "g2 = x**2 + 3 * y\n",
    "sp.hessian(f, (x, y), [g1, g2])\n",
    "\n"
   ]
  }
 ],
 "metadata": {
  "file_extension": ".py",
  "kernelspec": {
   "display_name": "Python 3",
   "language": "python",
   "name": "python3"
  },
  "language_info": {
   "codemirror_mode": {
    "name": "ipython",
    "version": 3
   },
   "file_extension": ".py",
   "mimetype": "text/x-python",
   "name": "python",
   "nbconvert_exporter": "python",
   "pygments_lexer": "ipython3",
   "version": "3.7.6"
  },
  "mimetype": "text/x-python",
  "name": "python",
  "npconvert_exporter": "python",
  "pygments_lexer": "ipython3",
  "version": 3
 },
 "nbformat": 4,
 "nbformat_minor": 4
}
